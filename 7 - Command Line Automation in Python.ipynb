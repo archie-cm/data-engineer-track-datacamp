{
 "cells": [
  {
   "cell_type": "code",
   "execution_count": null,
   "metadata": {},
   "outputs": [],
   "source": []
  },
  {
   "cell_type": "code",
   "execution_count": null,
   "metadata": {},
   "outputs": [],
   "source": []
  },
  {
   "cell_type": "code",
   "execution_count": null,
   "metadata": {},
   "outputs": [],
   "source": []
  },
  {
   "cell_type": "code",
   "execution_count": null,
   "metadata": {},
   "outputs": [],
   "source": []
  },
  {
   "cell_type": "code",
   "execution_count": null,
   "metadata": {},
   "outputs": [],
   "source": []
  },
  {
   "cell_type": "code",
   "execution_count": null,
   "metadata": {},
   "outputs": [],
   "source": [
    "## Using the ! operator in IPython\n",
    "\n",
    "!ls | cat | awk '{SUM+=$5} END {print SUM}'"
   ]
  },
  {
   "cell_type": "code",
   "execution_count": null,
   "metadata": {},
   "outputs": [],
   "source": []
  },
  {
   "cell_type": "code",
   "execution_count": null,
   "metadata": {},
   "outputs": [],
   "source": [
    "## Use SList fields to parse shell output\n",
    "\n",
    "disk_space = !df -h\n",
    "\n",
    "disk_space.fields(2)"
   ]
  },
  {
   "cell_type": "code",
   "execution_count": null,
   "metadata": {},
   "outputs": [],
   "source": []
  },
  {
   "cell_type": "code",
   "execution_count": null,
   "metadata": {},
   "outputs": [],
   "source": [
    "## Find Python files using SLIST grep\n",
    "\n",
    "bla = !ls src\n",
    "\n",
    "bla.grep(\"/*.py\")\n",
    "\n",
    "bla.grep('.py')"
   ]
  },
  {
   "cell_type": "code",
   "execution_count": null,
   "metadata": {},
   "outputs": [],
   "source": []
  },
  {
   "cell_type": "code",
   "execution_count": null,
   "metadata": {},
   "outputs": [],
   "source": [
    "## Using SList to grep\n",
    "\n",
    "# Use the results of an SList object\n",
    "root = \"test_dir\"\n",
    "\n",
    "# Find the backups with \"_2\" in them\n",
    "result = slist_out.grep(\"_2\")\n",
    "\n",
    "# Extract the filenames\n",
    "for res in result:\n",
    "\tfilename = res.split()[-1]\n",
    "    \n",
    "\t# Create the full path\n",
    "\tfullpath = os.path.join(root, filename)\n",
    "\tprint(f\"fullpath of backup file: {fullpath}\")"
   ]
  },
  {
   "cell_type": "code",
   "execution_count": null,
   "metadata": {},
   "outputs": [],
   "source": []
  },
  {
   "cell_type": "raw",
   "metadata": {},
   "source": [
    "2 - Shell commands with subprocess"
   ]
  },
  {
   "cell_type": "code",
   "execution_count": null,
   "metadata": {},
   "outputs": [],
   "source": []
  },
  {
   "cell_type": "code",
   "execution_count": null,
   "metadata": {},
   "outputs": [],
   "source": [
    "## Permissions Check\n",
    "\n",
    "import subprocess\n",
    "import os\n",
    "\n",
    "#setup\n",
    "file_location = \"/tmp/file.txt\"\n",
    "expected_uid = 1000\n",
    "#touch a file\n",
    "proc = subprocess.Popen([\"touch\", '-t'])\n",
    "\n",
    "#check user permissions\n",
    "stat = os.stat(file_location)\n",
    "if stat.st_uid == expected_uid:\n",
    "  print(f\"File System exported properly: {expected_uid} == {stat.st_uid}\")\n",
    "else:\n",
    "  print(f\"File System NOT exported properly: {expected_uid} != {stat.st_uid}\")"
   ]
  },
  {
   "cell_type": "code",
   "execution_count": null,
   "metadata": {},
   "outputs": [],
   "source": []
  },
  {
   "cell_type": "code",
   "execution_count": null,
   "metadata": {},
   "outputs": [],
   "source": [
    "## Reading a creepy AI poem\n",
    "\n",
    "import subprocess\n",
    "\n",
    "# Execute Unix command `head` safely as items in a list\n",
    "with subprocess.Popen([\"head\", \"poem.txt\"], stdout=subprocess.PIPE) as head:\n",
    "  \n",
    "  # Print each line of list returned by `stdout.readlines()`\n",
    "  for line in head.stdout.readlines():\n",
    "    print(line)\n",
    "    \n",
    "# Execute Unix command `wc -c` safely as items in a list\n",
    "with subprocess.Popen(['wc', '-w', \"poem.txt\"], stdout=subprocess.PIPE) as word_count:\n",
    "  \n",
    "  # Print the string output of standard out of `wc -c`\n",
    "  print(word_count.stdout.read())"
   ]
  },
  {
   "cell_type": "code",
   "execution_count": null,
   "metadata": {},
   "outputs": [],
   "source": []
  },
  {
   "cell_type": "code",
   "execution_count": null,
   "metadata": {},
   "outputs": [],
   "source": [
    "## Running processes script\n",
    "\n",
    "import subprocess\n",
    "\n",
    "# Use subprocess to run the `ps aux` command that lists running processes\n",
    "with subprocess.Popen(['ps', 'aux'], stdout=subprocess.PIPE) as proc:\n",
    "    process_output = proc.stdout.readlines()\n",
    "    \n",
    "# Look through each line in the output and skip it if it contains \"python\"\n",
    "for line in process_output:\n",
    "    if b\"python\" in line:\n",
    "        continue\n",
    "    print(line)"
   ]
  },
  {
   "cell_type": "code",
   "execution_count": null,
   "metadata": {},
   "outputs": [],
   "source": []
  },
  {
   "cell_type": "code",
   "execution_count": null,
   "metadata": {},
   "outputs": [],
   "source": []
  },
  {
   "cell_type": "code",
   "execution_count": null,
   "metadata": {},
   "outputs": [],
   "source": []
  },
  {
   "cell_type": "code",
   "execution_count": null,
   "metadata": {},
   "outputs": [],
   "source": []
  },
  {
   "cell_type": "code",
   "execution_count": null,
   "metadata": {},
   "outputs": [],
   "source": []
  },
  {
   "cell_type": "code",
   "execution_count": null,
   "metadata": {},
   "outputs": [],
   "source": []
  },
  {
   "cell_type": "code",
   "execution_count": null,
   "metadata": {},
   "outputs": [],
   "source": []
  },
  {
   "cell_type": "code",
   "execution_count": null,
   "metadata": {},
   "outputs": [],
   "source": []
  }
 ],
 "metadata": {
  "kernelspec": {
   "display_name": "tf-gpu-2.0",
   "language": "python",
   "name": "tf_gpu2"
  },
  "language_info": {
   "codemirror_mode": {
    "name": "ipython",
    "version": 3
   },
   "file_extension": ".py",
   "mimetype": "text/x-python",
   "name": "python",
   "nbconvert_exporter": "python",
   "pygments_lexer": "ipython3",
   "version": "3.7.4"
  }
 },
 "nbformat": 4,
 "nbformat_minor": 2
}
